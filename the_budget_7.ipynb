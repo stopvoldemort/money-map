{
  "cells": [
    {
      "attachments": {},
      "cell_type": "markdown",
      "metadata": {
        "id": "XTUnyJTetEwg"
      },
      "source": [
        "TODO:\n",
        "\n",
        "- Results should be deleted between runs\n",
        "- Make InvestmentDistribution, etc. fields more understandable\n",
        "- Still need an AssetInput class\n",
        "- Need an input for the house purchase, and then add it to the FormParser\n",
        "- Make all input labels readable\n",
        "- Add instructions\n",
        "- Let Income, Expense, and maybe other classes grow over time (i.e., have an AAGR)\n",
        "- Maybe allow for randomness besides just market returns, e.g., income amounts, expense amounts?\n",
        "- Improve results display\n",
        "  - Report the results for each year in a table, e.g., account balances, total spending, total income, taxes\n",
        "    - Probably only show on non-dynamic runs\n",
        "    - Really just an enhancement of the \"debug\" setting\n",
        "- Incorporate 401k/IRA required withdrawals\n",
        "- Come up with a way to use machine learning to adjust parameters to minimize the likelihood of ending up with below $1 million, given a certain level of income and spending.\n",
        "- Form can be pre-populated with values from a Google Workbook (with sheets for \"expenses\", \"incomes\", etc.)\n"
      ]
    },
    {
      "cell_type": "code",
      "execution_count": 4,
      "metadata": {
        "id": "m3HRkopl_sF1"
      },
      "outputs": [
        {
          "data": {
            "application/vnd.jupyter.widget-view+json": {
              "model_id": "9b6dc3729ec747e48a2b081763f0a19e",
              "version_major": 2,
              "version_minor": 0
            },
            "text/plain": [
              "Output()"
            ]
          },
          "metadata": {},
          "output_type": "display_data"
        }
      ],
      "source": [
        "from form.form import Form\n",
        "\n",
        "form = Form()\n",
        "form.display()"
      ]
    },
    {
      "cell_type": "code",
      "execution_count": null,
      "metadata": {
        "id": "2qFgOZOkds4Z"
      },
      "outputs": [],
      "source": [
        "# first_year = 2024\n",
        "# last_year = 2070\n",
        "# dynamic = True\n",
        "# debug = False\n",
        "\n",
        "# data = {'debts': [{'name': 'some random debt', 'amount': 1000.0, 'aagr': 0.03}], 'accounts': [{'name': 'vanguard', 'account_type': 'investments', 'starting_balance': 150000.0, 'earliest_withdrawal_year': 2024, 'investment_distributions': [{'years': [2024, 2025, 2026, 2027, 2028, 2029, 2030, 2031, 2032, 2033, 2034, 2035, 2036, 2037, 2038, 2039, 2040, 2041, 2042, 2043, 2044, 2045, 2046, 2047, 2048, 2049], 'investment_proportions': [{'investment_vehicle': 'stocks', 'proportion': 0.9}, {'investment_vehicle': 'bonds', 'proportion': 0.1}]}, {'years': [2049, 2050, 2051, 2052, 2053, 2054, 2055, 2056, 2057, 2058, 2059, 2060, 2061, 2062, 2063, 2064, 2065, 2066, 2067, 2068, 2069, 2070], 'investment_proportions': [{'investment_vehicle': 'stocks', 'proportion': 0.9}, {'investment_vehicle': 'bonds', 'proportion': 0.1}]}]}, {'name': 'fidelity', 'account_type': 'retirement', 'starting_balance': 730000.0, 'earliest_withdrawal_year': 2039, 'investment_distributions': [{'years': [2024, 2025, 2026, 2027, 2028, 2029, 2030], 'investment_proportions': [{'investment_vehicle': 'stocks', 'proportion': 0.9}, {'investment_vehicle': 'bonds', 'proportion': 0.1}]}, {'years': [2031, 2032, 2033, 2034, 2035, 2036], 'investment_proportions': [{'investment_vehicle': 'stocks', 'proportion': 0.8}, {'investment_vehicle': 'bonds', 'proportion': 0.2}]}, {'years': [2037, 2038, 2039, 2040, 2041, 2042], 'investment_proportions': [{'investment_vehicle': 'stocks', 'proportion': 0.7}, {'investment_vehicle': 'bonds', 'proportion': 0.3}]}, {'years': [2043, 2044, 2045, 2046, 2047, 2048], 'investment_proportions': [{'investment_vehicle': 'stocks', 'proportion': 0.6}, {'investment_vehicle': 'bonds', 'proportion': 0.4}]}, {'years': [2049, 2050, 2051, 2052, 2053, 2054, 2055, 2056, 2057, 2058, 2059, 2060, 2061, 2062, 2063, 2064, 2065, 2066, 2067, 2068, 2069, 2070], 'investment_proportions': [{'investment_vehicle': 'stocks', 'proportion': 0.5}, {'investment_vehicle': 'bonds', 'proportion': 0.5}]}]}, {'name': 'boa', 'account_type': 'bank', 'starting_balance': 30000.0, 'earliest_withdrawal_year': 2024, 'investment_distributions': []}, {'name': 'nysaves', 'account_type': '529', 'starting_balance': 85000.0, 'earliest_withdrawal_year': 2024, 'investment_distributions': [{'years': [2024, 2025, 2026], 'investment_proportions': [{'investment_vehicle': 'stocks', 'proportion': 0.9}, {'investment_vehicle': 'bonds', 'proportion': 0.1}]}, {'years': [2027, 2028, 2029], 'investment_proportions': [{'investment_vehicle': 'stocks', 'proportion': 0.8}, {'investment_vehicle': 'bonds', 'proportion': 0.2}]}, {'years': [2030, 2031, 2032], 'investment_proportions': [{'investment_vehicle': 'stocks', 'proportion': 0.7}, {'investment_vehicle': 'bonds', 'proportion': 0.3}]}, {'years': [2033, 2034, 2035, 2036], 'investment_proportions': [{'investment_vehicle': 'stocks', 'proportion': 0.6}, {'investment_vehicle': 'bonds', 'proportion': 0.4}]}, {'years': [2037, 2038, 2039, 2040, 2041, 2042, 2043, 2044, 2045, 2046, 2047, 2048, 2049, 2050, 2051, 2052, 2053, 2054, 2055, 2056, 2057, 2058, 2059, 2060, 2061, 2062, 2063, 2064, 2065, 2066, 2067, 2068, 2069, 2070], 'investment_proportions': [{'investment_vehicle': 'stocks', 'proportion': 0.5}, {'investment_vehicle': 'bonds', 'proportion': 0.5}]}]}], 'incomes': [{'name': 'david full-time', 'amount': 130000.0, 'years': [2024, 2025, 2026, 2027, 2028, 2029, 2030, 2031, 2032, 2033, 2034, 2035, 2036, 2037, 2038, 2039], 'deposit_in': 'boa', 'federal_income_tax': True, 'payroll_tax': True, 'ny_income_tax': True, 'nyc_income_tax': True}, {'name': 'claire full-time', 'amount': 120000.0, 'years': [2024, 2025, 2026, 2027, 2028, 2029, 2030, 2031, 2032, 2033, 2034, 2035, 2036, 2037, 2038, 2039], 'deposit_in': 'boa', 'federal_income_tax': True, 'payroll_tax': True, 'ny_income_tax': True, 'nyc_income_tax': True}, {'name': 'david part-time', 'amount': 70000.0, 'years': [2040, 2041, 2042, 2043, 2044], 'deposit_in': 'boa', 'federal_income_tax': True, 'payroll_tax': True, 'ny_income_tax': True, 'nyc_income_tax': True}, {'name': 'claire part-time', 'amount': 80000.0, 'years': [2040, 2041, 2042, 2043, 2044], 'deposit_in': 'boa', 'federal_income_tax': True, 'payroll_tax': True, 'ny_income_tax': True, 'nyc_income_tax': True}], 'expenses': [{'name': 'car', 'amount': 40000.0, 'years': [2027, 2037, 2047, 2057, 2067], 'five_two_nine_eligible': False}, {'name': 'zach college', 'amount': 50000.0, 'years': [2039, 2040, 2041, 2042], 'five_two_nine_eligible': True}, {'name': 'sloane college', 'amount': 50000.0, 'years': [2037, 2038, 2039, 2040], 'five_two_nine_eligible': True}, {'name': 'copake', 'amount': 12000.0, 'years': [2024, 2025, 2026, 2027, 2028, 2029, 2030, 2031, 2032, 2033, 2034, 2035, 2036, 2037, 2038, 2039, 2040, 2041, 2042, 2043, 2044], 'five_two_nine_eligible': False}, {'name': 'every day expenses', 'amount': 101500.0, 'years': [2024, 2025, 2026, 2027, 2028, 2029, 2030, 2031, 2032, 2033, 2034, 2035, 2036, 2037, 2038, 2039, 2040, 2041, 2042, 2043, 2044, 2045, 2046, 2047, 2048, 2049, 2050, 2051, 2052, 2053, 2054, 2055, 2056, 2057, 2058, 2059, 2060, 2061, 2062, 2063, 2064, 2065, 2066, 2067, 2068, 2069, 2070], 'five_two_nine_eligible': False}, {'name': 'zach daycare', 'amount': 20000.0, 'years': [2024, 2025, 2026], 'five_two_nine_eligible': False}], 'gifts': [{'name': 'dad 529', 'amount': 8000.0, 'years': [2024, 2025, 2026, 2027, 2028, 2029, 2030, 2031, 2032, 2033, 2034, 2035, 2036, 2037], 'account': 'nysaves'}], 'transfers': [{'name': 'retirement contribution', 'amount': 45000.0, 'years': [2024, 2025, 2026, 2027, 2028, 2029, 2030, 2031, 2032, 2033, 2034, 2035, 2036, 2037, 2038, 2039], 'transfer_from': 'boa', 'transfer_to': 'fidelity', 'required': False}], 'investment_vehicles': [{'name': 'stocks', 'aagr': 0.0655, 'dynamic_mean': 0.077, 'dynamic_std_dev': 0.1175}, {'name': 'bonds', 'aagr': 0.0352, 'dynamic_mean': 0.039, 'dynamic_std_dev': 0.0855}]}\n",
        "# results = Simulations(data, first_year=first_year, last_year=last_year, dynamic=dynamic, debug=dynamic).execute()\n",
        "# ResultsDisplay(first_year=first_year, last_year=last_year, aggregator=results, dynamic=dynamic, debug=debug).display()"
      ]
    }
  ],
  "metadata": {
    "colab": {
      "private_outputs": true,
      "provenance": []
    },
    "kernelspec": {
      "display_name": "Python 3",
      "name": "python3"
    },
    "language_info": {
      "codemirror_mode": {
        "name": "ipython",
        "version": 3
      },
      "file_extension": ".py",
      "mimetype": "text/x-python",
      "name": "python",
      "nbconvert_exporter": "python",
      "pygments_lexer": "ipython3",
      "version": "3.12.5"
    }
  },
  "nbformat": 4,
  "nbformat_minor": 0
}
